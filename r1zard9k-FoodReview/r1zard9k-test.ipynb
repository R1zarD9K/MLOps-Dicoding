{
 "cells": [
  {
   "cell_type": "code",
   "execution_count": 4,
   "metadata": {},
   "outputs": [
    {
     "name": "stdout",
     "output_type": "stream",
     "text": [
      "Good\n"
     ]
    }
   ],
   "source": [
    "import requests\n",
    "import tensorflow as tf\n",
    "import json\n",
    "import base64\n",
    "\n",
    "def prepare_example(review_text):\n",
    "    # Define the features of your data\n",
    "    feature = {\n",
    "        \"Review\": tf.train.Feature(bytes_list=tf.train.BytesList(value=[review_text.encode()]))\n",
    "    }\n",
    "\n",
    "    # Create an Example\n",
    "    example = tf.train.Example(features=tf.train.Features(feature=feature))\n",
    "\n",
    "    # Serialize the Example to a string\n",
    "    example_str = example.SerializeToString()\n",
    "\n",
    "    return example_str\n",
    "\n",
    "def get_prediction(example_str, endpoint):\n",
    "    # Encode Example string to base64\n",
    "    encoded_example_str = base64.b64encode(example_str).decode()\n",
    "\n",
    "    # Prepare the JSON data\n",
    "    json_data = {\n",
    "        \"signature_name\": \"serving_default\",\n",
    "        \"instances\": [{\"b64\": encoded_example_str}]\n",
    "    }\n",
    "\n",
    "    # Send POST request\n",
    "    response = requests.post(endpoint, json=json_data)\n",
    "\n",
    "    # Extract predictions from response\n",
    "    prediction = response.json().get(\"predictions\")\n",
    "\n",
    "    # Determine result based on prediction\n",
    "    if prediction:\n",
    "        prediction_value = prediction[0][0]\n",
    "        result = \"Good\" if prediction_value > 0.6 else \"Bad\"\n",
    "    else:\n",
    "        result = \"Error: No predictions found in response.\"\n",
    "\n",
    "    return result\n",
    "\n",
    "def main():\n",
    "    review_text = input(\"Enter your review: \")\n",
    "    endpoint = \"http://103.190.215.173:8501/v1/models/food-review:predict\"\n",
    "\n",
    "    # Prepare example\n",
    "    example_str = prepare_example(review_text)\n",
    "\n",
    "    # Get prediction result\n",
    "    result = get_prediction(example_str, endpoint)\n",
    "\n",
    "    print(result)\n",
    "\n",
    "if __name__ == \"__main__\":\n",
    "    main()\n"
   ]
  }
 ],
 "metadata": {
  "kernelspec": {
   "display_name": "mlops",
   "language": "python",
   "name": "python3"
  },
  "language_info": {
   "codemirror_mode": {
    "name": "ipython",
    "version": 3
   },
   "file_extension": ".py",
   "mimetype": "text/x-python",
   "name": "python",
   "nbconvert_exporter": "python",
   "pygments_lexer": "ipython3",
   "version": "3.8.18"
  }
 },
 "nbformat": 4,
 "nbformat_minor": 2
}
